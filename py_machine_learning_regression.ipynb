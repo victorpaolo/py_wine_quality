{
  "nbformat": 4,
  "nbformat_minor": 0,
  "metadata": {
    "colab": {
      "name": "py_machine_learning_regression.ipynb",
      "provenance": [],
      "authorship_tag": "ABX9TyM33djeqiuywAoR+iN6byzq",
      "include_colab_link": true
    },
    "kernelspec": {
      "name": "python3",
      "display_name": "Python 3"
    },
    "language_info": {
      "name": "python"
    }
  },
  "cells": [
    {
      "cell_type": "markdown",
      "metadata": {
        "id": "view-in-github",
        "colab_type": "text"
      },
      "source": [
        "<a href=\"https://colab.research.google.com/github/victorpaolo/py_wine_quality/blob/main/py_machine_learning_regression.ipynb\" target=\"_parent\"><img src=\"https://colab.research.google.com/assets/colab-badge.svg\" alt=\"Open In Colab\"/></a>"
      ]
    },
    {
      "cell_type": "code",
      "execution_count": null,
      "metadata": {
        "id": "c_Td-sweCR7_"
      },
      "outputs": [],
      "source": [
        "import numpy as np\n",
        "import pandas as pd\n",
        "from sklearn.model_selection import StratifiedKFold\n",
        "from sklearn.preprocessing import StandardScaler\n",
        "from sklearn.model_selection import train_test_split\n",
        "from keras.models import Sequential\n",
        "from keras.layers import Dense\n",
        "from keras.layers import Dropout\n",
        "from keras.constraints import maxnorm\n",
        "from tensorflow.keras.optimizers import RMSprop\n",
        "from tensorflow.keras.optimizers import SGD, RMSprop"
      ]
    },
    {
      "cell_type": "code",
      "source": [
        "winequality = pd.read_csv('winequality.csv', sep=';')\n",
        "winequality.info()"
      ],
      "metadata": {
        "colab": {
          "base_uri": "https://localhost:8080/"
        },
        "id": "jWqhD1_yCbGu",
        "outputId": "7fd25978-2f71-4aa9-d720-906b9c11e415"
      },
      "execution_count": null,
      "outputs": [
        {
          "output_type": "stream",
          "name": "stdout",
          "text": [
            "<class 'pandas.core.frame.DataFrame'>\n",
            "RangeIndex: 6497 entries, 0 to 6496\n",
            "Data columns (total 13 columns):\n",
            " #   Column                Non-Null Count  Dtype  \n",
            "---  ------                --------------  -----  \n",
            " 0   fixed acidity         6497 non-null   float64\n",
            " 1   volatile acidity      6497 non-null   float64\n",
            " 2   citric acid           6497 non-null   float64\n",
            " 3   residual sugar        6497 non-null   float64\n",
            " 4   chlorides             6497 non-null   float64\n",
            " 5   free sulfur dioxide   6497 non-null   float64\n",
            " 6   total sulfur dioxide  6497 non-null   float64\n",
            " 7   density               6497 non-null   float64\n",
            " 8   pH                    6497 non-null   float64\n",
            " 9   sulphates             6497 non-null   float64\n",
            " 10  alcohol               6497 non-null   float64\n",
            " 11  quality               6497 non-null   int64  \n",
            " 12  color                 6497 non-null   object \n",
            "dtypes: float64(11), int64(1), object(1)\n",
            "memory usage: 660.0+ KB\n"
          ]
        }
      ]
    },
    {
      "cell_type": "code",
      "source": [
        "del winequality['residual sugar']\n",
        "del winequality['total sulfur dioxide']\n",
        "del winequality['color']"
      ],
      "metadata": {
        "id": "2UKwacQ1IOil"
      },
      "execution_count": null,
      "outputs": []
    },
    {
      "cell_type": "code",
      "source": [
        "winequality.info()"
      ],
      "metadata": {
        "colab": {
          "base_uri": "https://localhost:8080/"
        },
        "id": "5cmZvquVJWju",
        "outputId": "9f29e8fb-ab78-4119-8414-e432e71b6eda"
      },
      "execution_count": null,
      "outputs": [
        {
          "output_type": "stream",
          "name": "stdout",
          "text": [
            "<class 'pandas.core.frame.DataFrame'>\n",
            "RangeIndex: 6497 entries, 0 to 6496\n",
            "Data columns (total 10 columns):\n",
            " #   Column               Non-Null Count  Dtype  \n",
            "---  ------               --------------  -----  \n",
            " 0   fixed acidity        6497 non-null   float64\n",
            " 1   volatile acidity     6497 non-null   float64\n",
            " 2   citric acid          6497 non-null   float64\n",
            " 3   chlorides            6497 non-null   float64\n",
            " 4   free sulfur dioxide  6497 non-null   float64\n",
            " 5   density              6497 non-null   float64\n",
            " 6   pH                   6497 non-null   float64\n",
            " 7   sulphates            6497 non-null   float64\n",
            " 8   alcohol              6497 non-null   float64\n",
            " 9   quality              6497 non-null   int64  \n",
            "dtypes: float64(9), int64(1)\n",
            "memory usage: 507.7 KB\n"
          ]
        }
      ]
    },
    {
      "cell_type": "code",
      "source": [
        "cols = winequality.columns"
      ],
      "metadata": {
        "id": "yDNfcJ1iFKK3"
      },
      "execution_count": null,
      "outputs": []
    },
    {
      "cell_type": "code",
      "source": [
        "seed = 101\n",
        "np.random.seed(seed)\n",
        "scale = StandardScaler()\n",
        "Xtrain, Xtest, y_train, y_test = train_test_split(winequality.loc[:, cols], winequality.quality.values, test_size=0.20, random_state=101)\n",
        "X_train = scale.fit_transform(Xtrain)\n",
        "X_test = scale.transform(Xtest)\n",
        "\n",
        "kfold = StratifiedKFold(n_splits=3, shuffle=True, random_state=seed)\n",
        "K = 1\n",
        "\n",
        "for train, test in kfold.split(X_train, y_train):\n",
        "    model = Sequential()\n",
        "    model.add(Dense(128, kernel_initializer='normal',input_dim=10, activation='relu'))\n",
        "    model.add(Dropout(0.2))\n",
        "    model.add(Dense(256, kernel_initializer='normal', activation='relu', kernel_constraint=maxnorm(3)))\n",
        "    model.add(Dropout(0.2))\n",
        "    model.add(Dense(256, kernel_initializer='normal', activation='relu', kernel_constraint=maxnorm(3)))\n",
        "    model.add(Dense(1))\n",
        "    #model.compile(optimizer='rmsprop', loss='mse', metrics=['mae'])\n",
        "    #rmsprop = RMSprop(lr=0.0001)\n",
        "    #model.compile(optimizer=rmsprop, loss='mse', metrics=['mae'])\n",
        "    sgd = SGD(lr=0.01, momentum=0.7, decay=0.01, nesterov=False)\n",
        "    model.compile(optimizer=sgd, loss='mse', metrics=['mae'])\n",
        "    model.fit(X_train[train], y_train[train], batch_size=16, epochs=30, verbose=1)\n",
        "\n",
        "    mse_value, mae_value = model.evaluate(X_train[test], y_train[test], verbose=0)\n",
        "    print('Results from Kfold', K)\n",
        "    print('-'*30)\n",
        "    print('MSE {:1.4f}'.format(mse_value))\n",
        "    print('MAE {:1.4f}'.format(mae_value))\n",
        "    K += 1"
      ],
      "metadata": {
        "colab": {
          "base_uri": "https://localhost:8080/"
        },
        "id": "8PVcoX2cCbRv",
        "outputId": "0d0cd5eb-9adf-41c0-9bfb-56ab280add9f"
      },
      "execution_count": null,
      "outputs": [
        {
          "output_type": "stream",
          "name": "stdout",
          "text": [
            "Epoch 1/30\n"
          ]
        },
        {
          "output_type": "stream",
          "name": "stderr",
          "text": [
            "/usr/local/lib/python3.7/dist-packages/keras/optimizer_v2/gradient_descent.py:102: UserWarning: The `lr` argument is deprecated, use `learning_rate` instead.\n",
            "  super(SGD, self).__init__(name, **kwargs)\n"
          ]
        },
        {
          "output_type": "stream",
          "name": "stdout",
          "text": [
            "217/217 [==============================] - 1s 2ms/step - loss: 0.8083 - mae: 0.3926\n",
            "Epoch 2/30\n",
            "217/217 [==============================] - 0s 2ms/step - loss: 0.0636 - mae: 0.1796\n",
            "Epoch 3/30\n",
            "217/217 [==============================] - 0s 2ms/step - loss: 0.0532 - mae: 0.1635\n",
            "Epoch 4/30\n",
            "217/217 [==============================] - 0s 2ms/step - loss: 0.0474 - mae: 0.1566\n",
            "Epoch 5/30\n",
            "217/217 [==============================] - 0s 2ms/step - loss: 0.0438 - mae: 0.1511\n",
            "Epoch 6/30\n",
            "217/217 [==============================] - 0s 2ms/step - loss: 0.0437 - mae: 0.1513\n",
            "Epoch 7/30\n",
            "217/217 [==============================] - 0s 2ms/step - loss: 0.0420 - mae: 0.1479\n",
            "Epoch 8/30\n",
            "217/217 [==============================] - 0s 2ms/step - loss: 0.0412 - mae: 0.1478\n",
            "Epoch 9/30\n",
            "217/217 [==============================] - 0s 2ms/step - loss: 0.0391 - mae: 0.1427\n",
            "Epoch 10/30\n",
            "217/217 [==============================] - 0s 2ms/step - loss: 0.0382 - mae: 0.1414\n",
            "Epoch 11/30\n",
            "217/217 [==============================] - 0s 2ms/step - loss: 0.0374 - mae: 0.1418\n",
            "Epoch 12/30\n",
            "217/217 [==============================] - 0s 2ms/step - loss: 0.0372 - mae: 0.1408\n",
            "Epoch 13/30\n",
            "217/217 [==============================] - 0s 2ms/step - loss: 0.0365 - mae: 0.1404\n",
            "Epoch 14/30\n",
            "217/217 [==============================] - 0s 2ms/step - loss: 0.0358 - mae: 0.1378\n",
            "Epoch 15/30\n",
            "217/217 [==============================] - 0s 2ms/step - loss: 0.0348 - mae: 0.1366\n",
            "Epoch 16/30\n",
            "217/217 [==============================] - 0s 2ms/step - loss: 0.0334 - mae: 0.1349\n",
            "Epoch 17/30\n",
            "217/217 [==============================] - 0s 2ms/step - loss: 0.0363 - mae: 0.1378\n",
            "Epoch 18/30\n",
            "217/217 [==============================] - 0s 2ms/step - loss: 0.0339 - mae: 0.1349\n",
            "Epoch 19/30\n",
            "217/217 [==============================] - 0s 2ms/step - loss: 0.0343 - mae: 0.1350\n",
            "Epoch 20/30\n",
            "217/217 [==============================] - 0s 2ms/step - loss: 0.0351 - mae: 0.1343\n",
            "Epoch 21/30\n",
            "217/217 [==============================] - 0s 2ms/step - loss: 0.0338 - mae: 0.1346\n",
            "Epoch 22/30\n",
            "217/217 [==============================] - 0s 2ms/step - loss: 0.0329 - mae: 0.1342\n",
            "Epoch 23/30\n",
            "217/217 [==============================] - 0s 2ms/step - loss: 0.0344 - mae: 0.1370\n",
            "Epoch 24/30\n",
            "217/217 [==============================] - 0s 2ms/step - loss: 0.0329 - mae: 0.1325\n",
            "Epoch 25/30\n",
            "217/217 [==============================] - 0s 2ms/step - loss: 0.0318 - mae: 0.1321\n",
            "Epoch 26/30\n",
            "217/217 [==============================] - 0s 2ms/step - loss: 0.0328 - mae: 0.1313\n",
            "Epoch 27/30\n",
            "217/217 [==============================] - 0s 2ms/step - loss: 0.0317 - mae: 0.1292\n",
            "Epoch 28/30\n",
            "217/217 [==============================] - 0s 2ms/step - loss: 0.0319 - mae: 0.1299\n",
            "Epoch 29/30\n",
            "217/217 [==============================] - 0s 2ms/step - loss: 0.0320 - mae: 0.1312\n",
            "Epoch 30/30\n",
            "217/217 [==============================] - 0s 2ms/step - loss: 0.0347 - mae: 0.1323\n",
            "Results from Kfold 1\n",
            "------------------------------\n",
            "MSE 0.0075\n",
            "MAE 0.0460\n",
            "Epoch 1/30\n",
            "217/217 [==============================] - 1s 2ms/step - loss: 0.7904 - mae: 0.3804\n",
            "Epoch 2/30\n",
            "217/217 [==============================] - 0s 2ms/step - loss: 0.0540 - mae: 0.1681\n",
            "Epoch 3/30\n",
            "217/217 [==============================] - 0s 2ms/step - loss: 0.0457 - mae: 0.1543\n",
            "Epoch 4/30\n",
            "217/217 [==============================] - 0s 2ms/step - loss: 0.0411 - mae: 0.1495\n",
            "Epoch 5/30\n",
            "217/217 [==============================] - 0s 2ms/step - loss: 0.0403 - mae: 0.1464\n",
            "Epoch 6/30\n",
            "217/217 [==============================] - 0s 2ms/step - loss: 0.0369 - mae: 0.1422\n",
            "Epoch 7/30\n",
            "217/217 [==============================] - 0s 2ms/step - loss: 0.0360 - mae: 0.1410\n",
            "Epoch 8/30\n",
            "217/217 [==============================] - 0s 2ms/step - loss: 0.0341 - mae: 0.1361\n",
            "Epoch 9/30\n",
            "217/217 [==============================] - 0s 2ms/step - loss: 0.0343 - mae: 0.1377\n",
            "Epoch 10/30\n",
            "217/217 [==============================] - 0s 2ms/step - loss: 0.0349 - mae: 0.1389\n",
            "Epoch 11/30\n",
            "217/217 [==============================] - 0s 2ms/step - loss: 0.0322 - mae: 0.1334\n",
            "Epoch 12/30\n",
            "217/217 [==============================] - 0s 2ms/step - loss: 0.0328 - mae: 0.1344\n",
            "Epoch 13/30\n",
            "217/217 [==============================] - 0s 2ms/step - loss: 0.0319 - mae: 0.1317\n",
            "Epoch 14/30\n",
            "217/217 [==============================] - 0s 2ms/step - loss: 0.0331 - mae: 0.1344\n",
            "Epoch 15/30\n",
            "217/217 [==============================] - 0s 2ms/step - loss: 0.0308 - mae: 0.1311\n",
            "Epoch 16/30\n",
            "217/217 [==============================] - 0s 2ms/step - loss: 0.0315 - mae: 0.1293\n",
            "Epoch 17/30\n",
            "217/217 [==============================] - 0s 2ms/step - loss: 0.0314 - mae: 0.1316\n",
            "Epoch 18/30\n",
            "217/217 [==============================] - 0s 2ms/step - loss: 0.0296 - mae: 0.1286\n",
            "Epoch 19/30\n",
            "217/217 [==============================] - 0s 2ms/step - loss: 0.0302 - mae: 0.1276\n",
            "Epoch 20/30\n",
            "217/217 [==============================] - 0s 2ms/step - loss: 0.0300 - mae: 0.1296\n",
            "Epoch 21/30\n",
            "217/217 [==============================] - 0s 2ms/step - loss: 0.0286 - mae: 0.1247\n",
            "Epoch 22/30\n",
            "217/217 [==============================] - 0s 2ms/step - loss: 0.0287 - mae: 0.1277\n",
            "Epoch 23/30\n",
            "217/217 [==============================] - 0s 2ms/step - loss: 0.0287 - mae: 0.1259\n",
            "Epoch 24/30\n",
            "217/217 [==============================] - 0s 2ms/step - loss: 0.0291 - mae: 0.1272\n",
            "Epoch 25/30\n",
            "217/217 [==============================] - 0s 2ms/step - loss: 0.0285 - mae: 0.1254\n",
            "Epoch 26/30\n",
            "217/217 [==============================] - 0s 2ms/step - loss: 0.0282 - mae: 0.1258\n",
            "Epoch 27/30\n",
            "217/217 [==============================] - 0s 2ms/step - loss: 0.0274 - mae: 0.1246\n",
            "Epoch 28/30\n",
            "217/217 [==============================] - 0s 2ms/step - loss: 0.0267 - mae: 0.1231\n",
            "Epoch 29/30\n",
            "217/217 [==============================] - 0s 2ms/step - loss: 0.0273 - mae: 0.1242\n",
            "Epoch 30/30\n",
            "217/217 [==============================] - 0s 2ms/step - loss: 0.0264 - mae: 0.1221\n",
            "Results from Kfold 2\n",
            "------------------------------\n",
            "MSE 0.0049\n",
            "MAE 0.0409\n",
            "Epoch 1/30\n",
            "217/217 [==============================] - 1s 2ms/step - loss: 0.7741 - mae: 0.3923\n",
            "Epoch 2/30\n",
            "217/217 [==============================] - 0s 2ms/step - loss: 0.0539 - mae: 0.1692\n",
            "Epoch 3/30\n",
            "217/217 [==============================] - 0s 2ms/step - loss: 0.0475 - mae: 0.1589\n",
            "Epoch 4/30\n",
            "217/217 [==============================] - 0s 2ms/step - loss: 0.0417 - mae: 0.1486\n",
            "Epoch 5/30\n",
            "217/217 [==============================] - 0s 2ms/step - loss: 0.0392 - mae: 0.1450\n",
            "Epoch 6/30\n",
            "217/217 [==============================] - 0s 2ms/step - loss: 0.0368 - mae: 0.1396\n",
            "Epoch 7/30\n",
            "217/217 [==============================] - 0s 2ms/step - loss: 0.0363 - mae: 0.1402\n",
            "Epoch 8/30\n",
            "217/217 [==============================] - 0s 2ms/step - loss: 0.0334 - mae: 0.1361\n",
            "Epoch 9/30\n",
            "217/217 [==============================] - 0s 2ms/step - loss: 0.0328 - mae: 0.1344\n",
            "Epoch 10/30\n",
            "217/217 [==============================] - 0s 2ms/step - loss: 0.0346 - mae: 0.1371\n",
            "Epoch 11/30\n",
            "217/217 [==============================] - 0s 2ms/step - loss: 0.0341 - mae: 0.1337\n",
            "Epoch 12/30\n",
            "217/217 [==============================] - 0s 2ms/step - loss: 0.0314 - mae: 0.1323\n",
            "Epoch 13/30\n",
            "217/217 [==============================] - 0s 2ms/step - loss: 0.0303 - mae: 0.1296\n",
            "Epoch 14/30\n",
            "217/217 [==============================] - 0s 2ms/step - loss: 0.0305 - mae: 0.1295\n",
            "Epoch 15/30\n",
            "217/217 [==============================] - 0s 2ms/step - loss: 0.0304 - mae: 0.1292\n",
            "Epoch 16/30\n",
            "217/217 [==============================] - 0s 2ms/step - loss: 0.0298 - mae: 0.1277\n",
            "Epoch 17/30\n",
            "217/217 [==============================] - 0s 2ms/step - loss: 0.0297 - mae: 0.1282\n",
            "Epoch 18/30\n",
            "217/217 [==============================] - 0s 2ms/step - loss: 0.0287 - mae: 0.1266\n",
            "Epoch 19/30\n",
            "217/217 [==============================] - 0s 2ms/step - loss: 0.0292 - mae: 0.1258\n",
            "Epoch 20/30\n",
            "217/217 [==============================] - 0s 2ms/step - loss: 0.0287 - mae: 0.1256\n",
            "Epoch 21/30\n",
            "217/217 [==============================] - 0s 2ms/step - loss: 0.0290 - mae: 0.1257\n",
            "Epoch 22/30\n",
            "217/217 [==============================] - 0s 2ms/step - loss: 0.0289 - mae: 0.1268\n",
            "Epoch 23/30\n",
            "217/217 [==============================] - 0s 2ms/step - loss: 0.0276 - mae: 0.1240\n",
            "Epoch 24/30\n",
            "217/217 [==============================] - 0s 2ms/step - loss: 0.0278 - mae: 0.1237\n",
            "Epoch 25/30\n",
            "217/217 [==============================] - 0s 2ms/step - loss: 0.0288 - mae: 0.1251\n",
            "Epoch 26/30\n",
            "217/217 [==============================] - 0s 2ms/step - loss: 0.0288 - mae: 0.1232\n",
            "Epoch 27/30\n",
            "217/217 [==============================] - 0s 2ms/step - loss: 0.0284 - mae: 0.1246\n",
            "Epoch 28/30\n",
            "217/217 [==============================] - 0s 2ms/step - loss: 0.0283 - mae: 0.1247\n",
            "Epoch 29/30\n",
            "217/217 [==============================] - 0s 2ms/step - loss: 0.0269 - mae: 0.1210\n",
            "Epoch 30/30\n",
            "217/217 [==============================] - 1s 3ms/step - loss: 0.0275 - mae: 0.1218\n",
            "Results from Kfold 3\n",
            "------------------------------\n",
            "MSE 0.0054\n",
            "MAE 0.0395\n"
          ]
        }
      ]
    },
    {
      "cell_type": "code",
      "source": [
        "from sklearn.metrics import r2_score\n",
        "\n",
        "print('Final Result:')\n",
        "print('-'*30)\n",
        "y_pred = model.predict(X_test)\n",
        "print('r2 Score:',r2_score(y_test, y_pred))"
      ],
      "metadata": {
        "colab": {
          "base_uri": "https://localhost:8080/"
        },
        "id": "HFOyu9S-Cbh8",
        "outputId": "1e28da54-845a-461d-c879-bb7a5af37e7d"
      },
      "execution_count": null,
      "outputs": [
        {
          "output_type": "stream",
          "name": "stdout",
          "text": [
            "Final Result:\n",
            "------------------------------\n",
            "r2 Score: 0.9920929455868398\n"
          ]
        }
      ]
    }
  ]
}